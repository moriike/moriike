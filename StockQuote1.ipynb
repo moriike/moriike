{
 "cells": [
  {
   "cell_type": "code",
   "execution_count": 37,
   "metadata": {
    "collapsed": false
   },
   "outputs": [],
   "source": [
    "import quandl\n",
    "import datetime\n",
    "import pandas as pd\n",
    "import re\n",
    "import sys\n",
    "import csv\n",
    "\n",
    "\n",
    "def main():\n",
    "    codelist_file = str(\"stockdata.csv\")\n",
    "    quandl.ApiConfig.api_key = \"X6mZSY79yeySfpCVJaKg\"\n",
    "    first_file = True\n",
    "    file_txt = open(\"StockDataTime.txt\", \"w\")\n",
    "    \n",
    "    \n",
    "    for stock_code in range(1300,2000):\n",
    "        #stock_code = 1301\n",
    "        print(stock_code, datetime.datetime.now())\n",
    "        try:\n",
    "            stock_data = quandl.get(\"TSE/\" + str(stock_code))\n",
    "\n",
    "        except:\n",
    "            dt_now = datetime.datetime.now()\n",
    "            file_txt.write(\"Err \" + str(stock_code) + \" \" + str(dt_now) + \"\\n\")\n",
    "\n",
    "        else:\n",
    "            stock_data[\"code\"] = stock_code\n",
    "            if first_file == True:\n",
    "                stock_data.to_csv(\"StockData.csv\")\n",
    "                first_file = False\n",
    "            else:    \n",
    "                stock_data.to_csv(\"StockData.csv\", mode=\"a\")\n",
    "            dt_now = datetime.datetime.now()\n",
    "            file_txt.write(\"Get \" + str(stock_code) + \" \" + str(dt_now) + \"\\n\")\n",
    "    \n",
    "    file_txt.close()\n",
    "    print(\"Complete\")\n",
    "                "
   ]
  },
  {
   "cell_type": "code",
   "execution_count": null,
   "metadata": {
    "collapsed": false
   },
   "outputs": [
    {
     "name": "stdout",
     "output_type": "stream",
     "text": [
      "1300 2020-03-29 15:50:52.512498\n",
      "1301 2020-03-29 15:51:35.488859\n",
      "1302 2020-03-29 15:52:19.425645\n"
     ]
    }
   ],
   "source": [
    "if __name__ == \"__main__\":\n",
    "    main()"
   ]
  },
  {
   "cell_type": "code",
   "execution_count": null,
   "metadata": {
    "collapsed": true
   },
   "outputs": [],
   "source": [
    "    csv_file = open(\"Stock\" + stock_code + \".csv\",'w')\n",
    "    writer = csv.writer(csv_file, lineterminator='\\n')\n",
    "    for d, c in zip(date[::-1], values[::-1]):\n",
    "        csv_row = [d,c]\n",
    "        writer.writerow(csv_row)\n",
    "    csv_file.close()"
   ]
  },
  {
   "cell_type": "code",
   "execution_count": null,
   "metadata": {
    "collapsed": true
   },
   "outputs": [],
   "source": []
  }
 ],
 "metadata": {
  "kernelspec": {
   "display_name": "Python [default]",
   "language": "python",
   "name": "python3"
  },
  "language_info": {
   "codemirror_mode": {
    "name": "ipython",
    "version": 3
   },
   "file_extension": ".py",
   "mimetype": "text/x-python",
   "name": "python",
   "nbconvert_exporter": "python",
   "pygments_lexer": "ipython3",
   "version": "3.5.2"
  }
 },
 "nbformat": 4,
 "nbformat_minor": 1
}
