{
 "cells": [
  {
   "cell_type": "code",
   "execution_count": 10,
   "metadata": {
    "collapsed": false
   },
   "outputs": [],
   "source": [
    "import quandl\n",
    "import datetime\n",
    "import pandas as pd\n",
    "import re\n",
    "import sys\n",
    "import csv\n",
    "\n",
    "\n",
    "def main():\n",
    "    quandl.ApiConfig.api_key = \"X6mZSY79yeySfpCVJaKg\"\n",
    "    first_file = True\n",
    "    \n",
    "    \n",
    "    \n",
    "    for stock_code in range(1594,9999):\n",
    "        try:\n",
    "            stock_data = quandl.get(\"TSE/\" + str(stock_code))\n",
    "\n",
    "        except:\n",
    "            a = 1\n",
    "            \n",
    "        else:\n",
    "            stock_data[\"code\"] = stock_code\n",
    "            stock_data.to_csv(\"StockData/Stock\" + str(stock_code) + \".csv\")\n",
    "\n",
    "    print(\"Complete\")\n",
    "                "
   ]
  },
  {
   "cell_type": "code",
   "execution_count": null,
   "metadata": {
    "collapsed": false
   },
   "outputs": [],
   "source": [
    "if __name__ == \"__main__\":\n",
    "    main()"
   ]
  },
  {
   "cell_type": "code",
   "execution_count": 2,
   "metadata": {
    "collapsed": false
   },
   "outputs": [],
   "source": [
    "file1 = open(\"StockData/a.txt\",'w')\n",
    "file1.write(\"a\")\n",
    "file1.close()"
   ]
  },
  {
   "cell_type": "code",
   "execution_count": null,
   "metadata": {
    "collapsed": true
   },
   "outputs": [],
   "source": [
    "    csv_file = open(\"Stock\" + stock_code + \".csv\",'w')\n",
    "    writer = csv.writer(csv_file, lineterminator='\\n')\n",
    "    for d, c in zip(date[::-1], values[::-1]):\n",
    "        csv_row = [d,c]\n",
    "        writer.writerow(csv_row)\n",
    "    csv_file.close()"
   ]
  },
  {
   "cell_type": "code",
   "execution_count": null,
   "metadata": {
    "collapsed": true
   },
   "outputs": [],
   "source": []
  }
 ],
 "metadata": {
  "anaconda-cloud": {},
  "kernelspec": {
   "display_name": "Python [default]",
   "language": "python",
   "name": "python3"
  },
  "language_info": {
   "codemirror_mode": {
    "name": "ipython",
    "version": 3
   },
   "file_extension": ".py",
   "mimetype": "text/x-python",
   "name": "python",
   "nbconvert_exporter": "python",
   "pygments_lexer": "ipython3",
   "version": "3.5.2"
  }
 },
 "nbformat": 4,
 "nbformat_minor": 1
}
